{
 "cells": [
  {
   "cell_type": "code",
   "execution_count": 1,
   "metadata": {},
   "outputs": [],
   "source": [
    "from othello.OthelloGame import OthelloGame\n",
    "from othello.bots.AlphaBeta import BOT\n",
    "\n",
    "BLACK = 1\n",
    "WHITE = -1\n",
    "board_size = 6\n",
    "game = OthelloGame(board_size)\n",
    "bot_a = BOT(search_depth=4)\n",
    "bot_b = BOT(search_depth=2)"
   ]
  }
 ],
 "metadata": {
  "kernelspec": {
   "display_name": "othello",
   "language": "python",
   "name": "python3"
  },
  "language_info": {
   "codemirror_mode": {
    "name": "ipython",
    "version": 3
   },
   "file_extension": ".py",
   "mimetype": "text/x-python",
   "name": "python",
   "nbconvert_exporter": "python",
   "pygments_lexer": "ipython3",
   "version": "3.9.20"
  }
 },
 "nbformat": 4,
 "nbformat_minor": 2
}
