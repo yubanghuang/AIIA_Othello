{
 "cells": [
  {
   "cell_type": "code",
   "execution_count": 9,
   "metadata": {},
   "outputs": [],
   "source": [
    "from othello.OthelloGame import OthelloGame\n",
    "from othello.OthelloUtil import getValidMoves, isEndGame, executeMove\n",
    "\n",
    "from othello.bots.AlphaBeta import AlphaBeta_BOT\n",
    "from othello.bots.MCTS import MCTS_BOT\n",
    "from othello.bots.evaluate import weighted_evaluate_move\n",
    "\n",
    "BLACK = 1\n",
    "WHITE = -1\n",
    "board_size = 6\n",
    "\n",
    "game = OthelloGame(board_size)\n"
   ]
  },
  {
   "cell_type": "code",
   "execution_count": null,
   "metadata": {},
   "outputs": [
    {
     "name": "stdout",
     "output_type": "stream",
     "text": [
      "########## Player 1 ##########\n",
      "   A  B  C  D  E  F \n",
      "   -  -  -  -  -  - \n",
      "1  _  _  _  _  _  _ \n",
      "2  _  _  ∎  _  _  _ \n",
      "3  _  ∎  W  B  _  _ \n",
      "4  _  _  B  W  ∎  _ \n",
      "5  _  _  _  ∎  _  _ \n",
      "6  _  _  _  _  _  _ \n"
     ]
    }
   ],
   "source": [
    "game.resetBoard()\n",
    "game.play(\n",
    "    black=MCTS_BOT(mcts_simulations=1000, evaluate_move=None),\n",
    "    white=AlphaBeta_BOT(search_depth=5, evaluate_move=None),\n",
    "    )"
   ]
  }
 ],
 "metadata": {
  "kernelspec": {
   "display_name": "othello",
   "language": "python",
   "name": "python3"
  },
  "language_info": {
   "codemirror_mode": {
    "name": "ipython",
    "version": 3
   },
   "file_extension": ".py",
   "mimetype": "text/x-python",
   "name": "python",
   "nbconvert_exporter": "python",
   "pygments_lexer": "ipython3",
   "version": "3.9.20"
  }
 },
 "nbformat": 4,
 "nbformat_minor": 2
}
